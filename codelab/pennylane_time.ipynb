{
 "cells": [
  {
   "cell_type": "markdown",
   "id": "062bd66e",
   "metadata": {},
   "source": [
    "1- Get wine data"
   ]
  },
  {
   "cell_type": "code",
   "execution_count": null,
   "id": "6eb8af24",
   "metadata": {},
   "outputs": [],
   "source": [
    "import numpy as np \n",
    "from sklearn.datasets import load_wine \n",
    "from sklearn.model_selection import train_test_split\n",
    "from sklearn.preprocessing import MaxAbsScaler \n",
    "from sklearn.model_selection import KFold\n",
    "from datetime import datetime\n",
    "\n",
    "\n",
    "class WineData:\n",
    "\n",
    "    #Get data without crossvalidation\n",
    "    def prepareData(self):\n",
    "\n",
    "        seed = 1234\n",
    "\n",
    "        np.random.seed(seed)\n",
    "\n",
    "        x,y = load_wine(return_X_y = True)\n",
    "\n",
    "        x_tr, x_test, y_tr, y_test = train_test_split(x, y, train_size = 0.9)\n",
    "\n",
    "        scaler = MaxAbsScaler()\n",
    "        x_tr = scaler.fit_transform(x_tr)\n",
    "\n",
    "        x_test = scaler.transform(x_test)\n",
    "        x_test = np.clip(x_test,0,1)\n",
    "\n",
    "\n",
    "        return np, x_tr, x_test, y_tr, y_test\n",
    "    \n",
    "    #Get data with crossvalidation = 16\n",
    "    def prepareNFoldData(self):\n",
    "\n",
    "        seed = 1234\n",
    "\n",
    "        np.random.seed(seed)\n",
    "\n",
    "        x,y = load_wine(return_X_y = True)\n",
    "\n",
    "        scaler = MaxAbsScaler()\n",
    "        x = scaler.fit_transform(x)\n",
    "        x = np.clip(x, 0, 1)  # Clip values to [0, 1]\n",
    "\n",
    "        print(f'wine data, len(x): {len(x)}')\n",
    "\n",
    "        n_folds = 16\n",
    "\n",
    "        kf = KFold(n_splits=n_folds, shuffle=True, random_state=seed)\n",
    "        \n",
    "        train_data_list = []\n",
    "        test_data_list = []        \n",
    "        for train_index, test_index in kf.split(x):\n",
    "            \n",
    "            # Split the data into training and testing sets for this fold\n",
    "            x_tr, x_test = x[train_index], x[test_index]\n",
    "            y_tr, y_test = y[train_index], y[test_index]\n",
    "\n",
    "            train_data_list.append((x_tr, y_tr))\n",
    "            test_data_list.append((x_test, y_test))\n",
    "\n",
    "        return np, train_data_list, test_data_list\n"
   ]
  },
  {
   "cell_type": "markdown",
   "id": "f375c65c",
   "metadata": {},
   "source": [
    "implement feature map"
   ]
  },
  {
   "cell_type": "code",
   "execution_count": null,
   "id": "8bd0a2d5",
   "metadata": {},
   "outputs": [],
   "source": [
    "import pennylane as qml\n",
    "\n",
    "class MyFeatureMap:\n",
    "\n",
    "    amplitudeNQubits = 5\n",
    "\n",
    "    # @qml.qnode(qml.device(\"lightning.qubit\", wires = amplitudeNQubits))\n",
    "    dev = qml.device(\"qiskit.remote\", wires=amplitudeNQubits, backend=\"ibmq_qasm_simulator\", shots=1024)\n",
    "    def __getAmplitudeEmdedding(a, b):\n",
    "        \n",
    "        qml.AmplitudeEmbedding(\n",
    "        a, wires=range(MyFeatureMap.amplitudeNQubits), pad_with=0, normalize=True)\n",
    "\n",
    "        qml.adjoint(qml.AmplitudeEmbedding(\n",
    "        b, wires=range(MyFeatureMap.amplitudeNQubits), pad_with=0, normalize=True))\n",
    "\n",
    "        return qml.probs(wires = range(MyFeatureMap.amplitudeNQubits))\n"
   ]
  },
  {
   "cell_type": "markdown",
   "id": "5bd32d43",
   "metadata": {},
   "source": [
    "My quantum Kernel"
   ]
  },
  {
   "cell_type": "code",
   "execution_count": null,
   "id": "910647d2",
   "metadata": {},
   "outputs": [],
   "source": [
    "\n",
    "from sklearn.svm import SVC \n",
    "\n",
    "from sklearn.metrics import accuracy_score \n",
    "\n",
    "class MyKernel:\n",
    "\n",
    "    np = {}\n",
    "\n",
    "    myFeatureMap = MyFeatureMap()\n",
    "\n",
    "    # def getQKernel(self, A, B):\n",
    "    def getQKernel(self, A, B):\n",
    "\n",
    "        print(f'A: {A}, and B: {B}')\n",
    "        \n",
    "        return self.np.array([[MyKernel.myFeatureMap.__getAmplitudeEmdedding(a, b)[0] for b in B] for a in A])\n"
   ]
  },
  {
   "cell_type": "markdown",
   "id": "d6008e10",
   "metadata": {},
   "source": [
    "Scale data by 11"
   ]
  },
  {
   "cell_type": "code",
   "execution_count": null,
   "id": "48f41fe5",
   "metadata": {},
   "outputs": [],
   "source": [
    "def getListOfFoldData():\n",
    "\n",
    "        myWineData = WineData()\n",
    "\n",
    "        np, train_data_list, test_data_list = myWineData.prepareNFoldData()\n",
    "\n",
    "        return np, train_data_list, test_data_list\n",
    "\n",
    "\n",
    "np, train_data_list, test_data_list = getListOfFoldData()\n",
    "\n",
    "for fold_index in range(len(train_data_list)):\n",
    "\n",
    "        x_tr, y_tr = train_data_list[fold_index]\n",
    "        x_test, y_test = test_data_list[fold_index]\n",
    "\n",
    "        scaled_x_tr = x_tr * 11\n",
    "        scaled_x_test = x_test * 11\n",
    "        \n",
    "        # modelName = 'svm01_11'\n",
    "\n",
    "        svmKernel = SVC(kernel = MyKernel().getQKernel)\n",
    "\n",
    "        svm = svmKernel.fit(scaled_x_tr, scaled_x_test)\n",
    "\n",
    "        svmPrediction = svm.predict(x_test)\n",
    "\n",
    "        myAccuracyScore = accuracy_score(svmPrediction, y_test)\n",
    "\n",
    "        print(f'myAccuracyScore: {myAccuracyScore} for kfold: {fold_index}')"
   ]
  }
 ],
 "metadata": {
  "language_info": {
   "name": "python"
  }
 },
 "nbformat": 4,
 "nbformat_minor": 5
}
